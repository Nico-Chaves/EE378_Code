{
 "cells": [
  {
   "cell_type": "code",
   "execution_count": 1,
   "metadata": {
    "collapsed": false
   },
   "outputs": [],
   "source": [
    "import numpy as np\n",
    "from scipy import io\n",
    "import sys\n",
    "import os\n",
    "from ucrp import UniformConstantRebalancedPortfolio\n",
    "from ubah import UniformBuyAndHoldPortfolio\n",
    "from util import load_matlab_sp500_data\n",
    "from expert_pool import ExpertPool\n",
    "from olmar import OLMAR\n",
    "from rmr import RMR\n",
    "from nonparametric_markowitz import NonParametricMarkowitz\n",
    "import matplotlib.pyplot as plt\n",
    "%matplotlib inline"
   ]
  },
  {
   "cell_type": "code",
   "execution_count": 31,
   "metadata": {
    "collapsed": false,
    "scrolled": true
   },
   "outputs": [],
   "source": [
    "mat_dict = io.loadmat('data/test.mat')\n",
    "test_cl = mat_dict['test_cl']\n",
    "test_hi = mat_dict['test_hi']\n",
    "test_lo = mat_dict['test_lo']\n",
    "test_op = mat_dict['test_op']\n",
    "test_vol = mat_dict['test_vol']\n",
    "numDays, numStocks = test_cl.shape\n",
    "test_stocks = []\n",
    "for i in range(numStocks):\n",
    "    test_stocks.append(np.array_str(mat_dict['test_stocks'][0][i])[3:-2])"
   ]
  },
  {
   "cell_type": "code",
   "execution_count": 3,
   "metadata": {
    "collapsed": false
   },
   "outputs": [],
   "source": [
    "def uniform_rebalance(t, portfolio_t, hi, lo, cl, op, stocks, vol):\n",
    "    \"\"\"% Input: \n",
    "    %%% t: we are at Day t\n",
    "    %%% portfolio_t: current portfolio before open of Day t\n",
    "    %%% hi: highest prices at Day t-1\n",
    "    %%% lo: lowest prices at Day t-1\n",
    "    %%% cl: close prices at Day t-1\n",
    "    %%% op: open prices at Day t\n",
    "    %%% stocks: names of all stocks\n",
    "    %%% vol: volumes at Day t-1\n",
    "\n",
    "    % Output: \n",
    "    %%% portfolio: a column vector, each entry represents the portion of \n",
    "    %%%            the value of the corresponding stock over the total cash \n",
    "    %%%            realizable value [as a result, the value of inactive stocks \n",
    "    %%%            i.e., with open price NaN, cannot be added into the total\n",
    "    %%%            cash realizable value]. Hence, your output must satisfy\n",
    "    %%%            sum(portfolio(isfinite(op))) < 1, and the rest is the \n",
    "    %%%            portion of cash realizable value you hold in cash. \n",
    "    %%% hold_flag: a binary vector representing whether you would like to hold\n",
    "    %%%            (with value 1) each stock or you choose to rebalance it\n",
    "    %%%            (with value 0). \"\"\"\n",
    "    numStocks = len(stocks)\n",
    "    portfolio = np.zeros(numStocks)\n",
    "    numActiveStock = np.sum(np.isfinite(op))\n",
    "    portfolio[np.isfinite(op)] = 1.0/numActiveStock\n",
    "    if np.mod(t,2) == 1:\n",
    "        hold_flag = np.zeros(numStocks,dtype=bool)\n",
    "    else:\n",
    "        hold_flag = np.ones(numStocks,dtype=bool)      \n",
    "    return portfolio, hold_flag"
   ]
  },
  {
   "cell_type": "code",
   "execution_count": 4,
   "metadata": {
    "collapsed": false,
    "scrolled": true
   },
   "outputs": [],
   "source": [
    "def rebalance(value_vec, value_realizable, portfolio_dst, cost_rate):\n",
    "    \"\"\" % This function simulates the process of rebalancing. The key difficulty \n",
    "    % here is to compute the transaction cost, i.e., to solve the equation\n",
    "    %\n",
    "    % sum( cost_rate * abs( portfolio_dst .* (value_realizable - C) -\n",
    "    % value_vec) ) = C\n",
    "    % \n",
    "    % where C is the total transcation cost. We use the Banach contraction \n",
    "    % theorem to solve this equation, with convergence rate cost_rate^t for \n",
    "    % t-th iteration. \n",
    "\n",
    "    % Input: \n",
    "    %%% value_vec: current values of each active stock\n",
    "    %%% value_realizable: total cash realizable value\n",
    "    %%% portfolio_dst: the desired portfolio after rebalancing\n",
    "    %%% cost_rate: ratio of transactions cost (0.0005 in our case)\n",
    "\n",
    "    % Output:\n",
    "    %%% new_value_vec: the value vector after rebalancing\n",
    "    %%% trans_cost: the total transaction cost\"\"\"\n",
    "    \n",
    "    if len(portfolio_dst)==0:\n",
    "        new_value_vec = value_vec\n",
    "        trans_cost = 0\n",
    "    else:\n",
    "        len_noHold = value_vec.size\n",
    "        C_candidate = np.append([0], value_realizable - value_vec / portfolio_dst)\n",
    "        x = np.sort(C_candidate)\n",
    "        x[np.logical_or(np.isinf(x),np.isnan(x))] = 1e15\n",
    "        x1 = value_realizable - x\n",
    "        len_x = len(x1)\n",
    "        \n",
    "        y = np.sum(cost_rate * np.abs(np.dot(portfolio_dst.reshape(len_noHold,1),x1.reshape(1,len_x)) \\\n",
    "                  -np.dot(value_vec.reshape(len_noHold,1),np.ones((1,len_x)))), axis=0).squeeze() - x\n",
    "        I = np.where(y<=0)[0]\n",
    "        if (len(I)==0) or I[0]==0:\n",
    "            trans_cost = 0\n",
    "            new_value_vec = value_vec\n",
    "        else: #  the equation is linear in [C_sort(I-1), C_sort(I)]           \n",
    "            I = I[0]\n",
    "            trans_cost = x[I-1] - y[I-1] * (x[I] - x[I-1]) / (y[I] - y[I-1])\n",
    "            if trans_cost > value_realizable:\n",
    "                trans_cost = 0\n",
    "                new_value_vec = value_vec\n",
    "            else:\n",
    "                new_value_vec = portfolio_dst * (value_realizable - trans_cost)\n",
    "    return new_value_vec, trans_cost"
   ]
  },
  {
   "cell_type": "code",
   "execution_count": 26,
   "metadata": {
    "collapsed": false,
    "scrolled": true
   },
   "outputs": [
    {
     "name": "stdout",
     "output_type": "stream",
     "text": [
      "248 497\n"
     ]
    }
   ],
   "source": [
    "value_op_seq = np.zeros(numDays) # total value before open of each day\n",
    "value_cl_seq = np.zeros(numDays) # total value before close of each day \n",
    "portfolio_seq = np.zeros((numStocks, numDays)) # portfolio before open of each day\n",
    "last_close_price = np.NaN * np.ones(numStocks)\n",
    "print numDays, numStocks"
   ]
  },
  {
   "cell_type": "code",
   "execution_count": 27,
   "metadata": {
    "collapsed": false
   },
   "outputs": [],
   "source": [
    "# Initialization\n",
    "op = test_op[0,:]\n",
    "cl = np.NaN * np.ones(numStocks)\n",
    "hi = np.NaN * np.ones(numStocks)\n",
    "lo = np.NaN * np.ones(numStocks)\n",
    "vol = np.NaN * np.ones(numStocks)\n",
    "value_op_seq[0] = 1 # initially we have one unit of cash"
   ]
  },
  {
   "cell_type": "markdown",
   "metadata": {},
   "source": [
    "## Load Training Data"
   ]
  },
  {
   "cell_type": "code",
   "execution_count": 7,
   "metadata": {
    "collapsed": true
   },
   "outputs": [],
   "source": [
    "#direcotry = 'data/portfolio_train.mat'\n",
    "#train_start = 760\n",
    "directory = 'data/train.mat'\n",
    "train_start = 0\n",
    "train_data = load_matlab_sp500_data(directory,start=train_start)"
   ]
  },
  {
   "cell_type": "markdown",
   "metadata": {},
   "source": [
    "## Run Portfolio On Training Set (Note to instructors: we've already ran this block and saved parameters to a file. You can skip this block)"
   ]
  },
  {
   "cell_type": "code",
   "execution_count": 8,
   "metadata": {
    "collapsed": false
   },
   "outputs": [
    {
     "name": "stdout",
     "output_type": "stream",
     "text": [
      "------------------------------\n",
      "Results of expert pooling: \n",
      "------------------------------\n",
      "Weighting strategy:  exp_window\n",
      "Total dollar value of assets over time:\n",
      "[ 1.          0.99950025  0.98453958  0.97936484  0.97668832  0.95646125\n",
      "  0.94628035  0.94944179  0.93775277  0.94004697  0.93470971  0.95159261\n",
      "  0.95962921  0.94589299  0.95598934  0.96858082  0.96955565  0.95231972\n",
      "  0.94768514  0.93960302  0.93740813  0.93348141  0.9146944   0.90069733\n",
      "  0.91440299  0.94803448  0.94318242  0.93464198  0.93252626  0.94465415]\n",
      "Sharpe ratio:\n",
      "0.975762322587\n"
     ]
    }
   ],
   "source": [
    "\"\"\" \n",
    "new_results_dir = 'train_results/'\n",
    "#ucrp = UniformConstantRebalancedPortfolio(market_data=train_data, tune_interval=None, verbose=True, \n",
    "#                                          past_results_dir='train_results/UCRP/')\n",
    "olmar = OLMAR(market_data=train_data, tune_interval=5, verbose=True, new_results_dir=new_results_dir+'OLMAR/') #, past_results_dir='train_results/OLMAR/')\n",
    "rmr = RMR(market_data=train_data, tune_interval=200, verbose=True, new_results_dir=new_results_dir+'RMR/') #, past_results_dir='train_results/RMR/')\n",
    "#npm = NonParametricMarkowitz(market_data=train_data, tune_interval=None, verbose=True, past_results_dir='train_results/NPM/')\n",
    "pool = ExpertPool(market_data=train_data, experts=[olmar, rmr], verbose=True) #, past_results_dir='train_results/EP/')\n",
    "pool.run()\n",
    "\"\"\""
   ]
  },
  {
   "cell_type": "markdown",
   "metadata": {},
   "source": [
    "## Run Portfolio on Test (or validation) Set."
   ]
  },
  {
   "cell_type": "code",
   "execution_count": 10,
   "metadata": {
    "collapsed": false
   },
   "outputs": [
    {
     "name": "stdout",
     "output_type": "stream",
     "text": [
      "------------------------------\n",
      "Results of expert pooling: \n",
      "------------------------------\n",
      "Weighting strategy:  exp_window\n",
      "Total dollar value of assets over time:\n",
      "[ 1.          0.99950234  1.00832552  0.99215845  0.99239368  0.96996557\n",
      "  0.95713764  0.9769959   0.97106873  0.97670573  0.97345436  0.96491695\n",
      "  0.96465193  0.95655708  0.95486017  0.93498609  0.95072224  0.94120656\n",
      "  0.94382753  0.94523871  0.96450083  0.95727814  0.9475982   0.96223146\n",
      "  0.963463    0.94969958  0.94021079  0.94353685  0.94140406  0.9592599 ]\n",
      "Sharpe ratio:\n",
      "0.935311610911\n"
     ]
    }
   ],
   "source": [
    "# Load data\n",
    "directory = 'data/test.mat'\n",
    "past_results_dir = 'train_results/'\n",
    "test_data = load_matlab_sp500_data(directory)\n",
    "numDays, numStocks = test_data.get_cl().shape\n",
    "\n",
    "train_directory = 'data/market_data_train.mat'\n",
    "train_data = load_matlab_sp500_data(train_directory)\n",
    "\n",
    "ucrp = UniformConstantRebalancedPortfolio(market_data=train_data, tune_interval=None, verbose=True, \n",
    "                                         past_results_dir=past_results_dir+'UCRP/')\n",
    "olmar = OLMAR(market_data=test_data, market_data_train=train_data, tune_interval=5, verbose=True, past_results_dir=past_results_dir+'OLMAR/') \n",
    "rmr = RMR(market_data=test_data, market_data_train=train_data, tune_interval=200, verbose=True, past_results_dir=past_results_dir+'RMR/')\n",
    "npm = NonParametricMarkowitz(market_data=train_data, tune_interval=None, verbose=True, past_results_dir=past_results_dir+'NPM/')\n",
    "pool = ExpertPool(market_data=test_data, experts=[olmar, rmr], verbose=True) \n",
    "pool.run()\n",
    "\n",
    "portfolios = pool.b_history\n",
    "portfolios = np.concatenate((portfolios, np.reshape(pool.b, (-1,1))), axis=1)"
   ]
  },
  {
   "cell_type": "code",
   "execution_count": 34,
   "metadata": {
    "collapsed": false
   },
   "outputs": [
    {
     "name": "stderr",
     "output_type": "stream",
     "text": [
      "/Users/nicochaves/anaconda/lib/python2.7/site-packages/ipykernel/__main__.py:27: RuntimeWarning: invalid value encountered in divide\n",
      "/Users/nicochaves/anaconda/lib/python2.7/site-packages/ipykernel/__main__.py:27: RuntimeWarning: divide by zero encountered in divide\n"
     ]
    }
   ],
   "source": [
    "for t in range(numDays):\n",
    "    # At the beginning of day t, we use all information up to the open \n",
    "    # price of day t to determine the capital allocation at the end of \n",
    "    # day t.\n",
    "    \n",
    "    # Your function should be placed here. Note that the input vector may\n",
    "    # contain NaNs (at Day 1, or for some inactive stocks). \n",
    "    #new_portfolio, hold_flag = uniform_rebalance(t, portfolio_seq[:,t], hi, lo, cl, op, test_stocks, vol)\n",
    "    new_portfolio = portfolios[:,t+1]\n",
    "    hold_flag = np.zeros(numStocks)\n",
    "    \n",
    "    # Check whether your output is valid\n",
    "    isActive = np.isfinite(op)\n",
    "    noHold = np.logical_and(isActive, np.logical_not(hold_flag))\n",
    "    if np.sum(new_portfolio[noHold]) > 1 + 1e-8:\n",
    "        sys.stderr.write('The output portfolio is not valid!')\n",
    "        \n",
    "    # The value of our portfolio at the end of Day t before paying transaction costs\n",
    "    cl = test_cl[t,:]\n",
    "    value_vec = value_op_seq[t] * portfolio_seq[:,t]\n",
    "    growth = cl[isActive] / last_close_price[isActive]-1\n",
    "    growth[np.isnan(growth)] = 0\n",
    "    revenue_vec = value_vec[isActive] * growth\n",
    "    value_vec[isActive] = value_vec[isActive] + revenue_vec\n",
    "    value_cl_seq[t] = value_op_seq[t] + np.sum(revenue_vec)\n",
    "        \n",
    "\n",
    "    # At the end of Day t, we use the close price of day t to adjust our \n",
    "    # portfolio to the desired percentage.\n",
    "    if t <= numDays-2:\n",
    "        value_realizable = value_cl_seq[t] - np.sum(value_vec[np.logical_not(noHold)])\n",
    "        new_value_vec, trans_cost = rebalance(value_vec[noHold], value_realizable, \\\n",
    "                                              new_portfolio[noHold], 0.0005)\n",
    "        value_op_seq[t+1] = value_cl_seq[t] - trans_cost\n",
    "        if value_op_seq[t+1]<0:\n",
    "            sys.stderr.write('You go bankrupt at Day {}!'.format(t))\n",
    "        value_vec[noHold] = new_value_vec\n",
    "        portfolio_seq[:,t+1] = value_vec / value_op_seq[t+1]\n",
    "        \n",
    "    last_close_price[isActive] = cl[isActive]\n",
    "    \n",
    "    # Update information\n",
    "    if t <= numDays-2:\n",
    "        op = test_op[t+1,:]\n",
    "        hi = test_op[t,:]\n",
    "        lo = test_lo[t,:]\n",
    "        vol = test_vol[t,:]"
   ]
  },
  {
   "cell_type": "code",
   "execution_count": 35,
   "metadata": {
    "collapsed": false
   },
   "outputs": [
    {
     "name": "stdout",
     "output_type": "stream",
     "text": [
      "0.112475699328 0.935311610911\n"
     ]
    },
    {
     "data": {
      "image/png": "[encoded data removed]",
      "text/plain": [
       "<matplotlib.figure.Figure at 0x110688e50>"
      ]
     },
     "metadata": {},
     "output_type": "display_data"
    }
   ],
   "source": [
    "plt.plot(value_op_seq)\n",
    "return_seq = np.log(value_op_seq[1:] / value_op_seq[:-1])\n",
    "annual_return = 252 * np.mean(return_seq)\n",
    "sharpe = np.sqrt(252) * np.mean(return_seq) / np.std(return_seq)\n",
    "print annual_return, sharpe"
   ]
  },
  {
   "cell_type": "code",
   "execution_count": null,
   "metadata": {
    "collapsed": true
   },
   "outputs": [],
   "source": []
  }
 ],
 "metadata": {
  "kernelspec": {
   "display_name": "Python 2",
   "language": "python",
   "name": "python2"
  },
  "language_info": {
   "codemirror_mode": {
    "name": "ipython",
    "version": 2
   },
   "file_extension": ".py",
   "mimetype": "text/x-python",
   "name": "python",
   "nbconvert_exporter": "python",
   "pygments_lexer": "ipython2",
   "version": "2.7.11"
  }
 },
 "nbformat": 4,
 "nbformat_minor": 0
}
