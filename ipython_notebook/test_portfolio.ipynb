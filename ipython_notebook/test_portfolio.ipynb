{
 "cells": [
  {
   "cell_type": "code",
   "execution_count": 1,
   "metadata": {
    "collapsed": false
   },
   "outputs": [],
   "source": [
    "import numpy as np\n",
    "from scipy import io\n",
    "import sys\n",
    "import os\n",
    "#import matplotlib.pyplot as plt\n",
    "#%matplotlib inline"
   ]
  },
  {
   "cell_type": "code",
   "execution_count": 7,
   "metadata": {
    "collapsed": false
   },
   "outputs": [
    {
     "ename": "ValueError",
     "evalue": "Attempted relative import in non-package",
     "output_type": "error",
     "traceback": [
      "\u001b[0;31m---------------------------------------------------------------------------\u001b[0m",
      "\u001b[0;31mValueError\u001b[0m                                Traceback (most recent call last)",
      "\u001b[0;32m<ipython-input-7-941b0ed02e60>\u001b[0m in \u001b[0;36m<module>\u001b[0;34m()\u001b[0m\n\u001b[0;32m----> 1\u001b[0;31m \u001b[0;32mfrom\u001b[0m \u001b[0;34m.\u001b[0m\u001b[0;34m.\u001b[0m\u001b[0;34m.\u001b[0m \u001b[0;32mimport\u001b[0m \u001b[0mportfolio\u001b[0m\u001b[0;34m\u001b[0m\u001b[0m\n\u001b[0m",
      "\u001b[0;31mValueError\u001b[0m: Attempted relative import in non-package"
     ]
    }
   ],
   "source": [
    "\"\"\"\n",
    "import sys\n",
    "sys.path.append(\"../portfolios\")\n",
    "from portfolio import Portfolio\n",
    "import util\n",
    "from olmar import OLMAR\n",
    "from expert_pool import ExpertPool\n",
    "\"\"\""
   ]
  },
  {
   "cell_type": "code",
   "execution_count": null,
   "metadata": {
    "collapsed": true
   },
   "outputs": [],
   "source": []
  },
  {
   "cell_type": "code",
   "execution_count": 28,
   "metadata": {
    "collapsed": false,
    "scrolled": true
   },
   "outputs": [],
   "source": [
    "mat_dict = io.loadmat('portfolio.mat')\n",
    "test_cl = mat_dict['train_cl']\n",
    "test_hi = mat_dict['train_hi']\n",
    "test_lo = mat_dict['train_lo']\n",
    "test_op = mat_dict['train_op']\n",
    "test_vol = mat_dict['train_vol']\n",
    "numDays, numStocks = test_cl.shape\n",
    "test_stocks = []\n",
    "for i in range(numStocks):\n",
    "    test_stocks.append(np.array_str(mat_dict['train_stocks'][0][i])[3:-2])"
   ]
  },
  {
   "cell_type": "code",
   "execution_count": 29,
   "metadata": {
    "collapsed": false
   },
   "outputs": [],
   "source": [
    "def uniform_rebalance(t, portfolio_t, hi, lo, cl, op, stocks, vol):\n",
    "    \"\"\"% Input: \n",
    "    %%% t: we are at Day t\n",
    "    %%% portfolio_t: current portfolio before open of Day t\n",
    "    %%% hi: highest prices at Day t-1\n",
    "    %%% lo: lowest prices at Day t-1\n",
    "    %%% cl: close prices at Day t-1\n",
    "    %%% op: open prices at Day t\n",
    "    %%% stocks: names of all stocks\n",
    "    %%% vol: volumes at Day t-1\n",
    "\n",
    "    % Output: \n",
    "    %%% portfolio: a column vector, each entry represents the portion of \n",
    "    %%%            the value of the corresponding stock over the total cash \n",
    "    %%%            realizable value [as a result, the value of inactive stocks \n",
    "    %%%            i.e., with open price NaN, cannot be added into the total\n",
    "    %%%            cash realizable value]. Hence, your output must satisfy\n",
    "    %%%            sum(portfolio(isfinite(op))) < 1, and the rest is the \n",
    "    %%%            portion of cash realizable value you hold in cash. \n",
    "    %%% hold_flag: a binary vector representing whether you would like to hold\n",
    "    %%%            (with value 1) each stock or you choose to rebalance it\n",
    "    %%%            (with value 0). \"\"\"\n",
    "    numStocks = len(stocks)\n",
    "    portfolio = np.zeros(numStocks)\n",
    "    numActiveStock = np.sum(np.isfinite(op))\n",
    "    portfolio[np.isfinite(op)] = 1.0/numActiveStock\n",
    "    if np.mod(t,2) == 1:\n",
    "        hold_flag = np.zeros(numStocks,dtype=bool)\n",
    "    else:\n",
    "        hold_flag = np.ones(numStocks,dtype=bool)      \n",
    "    return portfolio"
   ]
  },
  {
   "cell_type": "code",
   "execution_count": 30,
   "metadata": {
    "collapsed": true
   },
   "outputs": [],
   "source": [
    "def rebalance(value_vec, value_realizable, portfolio_dst, cost_rate):\n",
    "    \"\"\" % This function simulates the process of rebalancing. The key difficulty \n",
    "    % here is to compute the transaction cost, i.e., to solve the equation\n",
    "    %\n",
    "    % sum( cost_rate * abs( portfolio_dst .* (value_realizable - C) -\n",
    "    % value_vec) ) = C\n",
    "    % \n",
    "    % where C is the total transcation cost. We use the Banach contraction \n",
    "    % theorem to solve this equation, with convergence rate cost_rate^t for \n",
    "    % t-th iteration. \n",
    "\n",
    "    % Input: \n",
    "    %%% value_vec: current values of each active stock\n",
    "    %%% value_realizable: total cash realizable value\n",
    "    %%% portfolio_dst: the desired portfolio after rebalancing\n",
    "    %%% cost_rate: ratio of transactions cost (0.0005 in our case)\n",
    "\n",
    "    % Output:\n",
    "    %%% new_value_vec: the value vector after rebalancing\n",
    "    %%% trans_cost: the total transaction cost\"\"\"\n",
    "    \n",
    "    iter_num = 7\n",
    "    trans_cost = 0\n",
    "    for iter in range(iter_num):\n",
    "        trans_cost = np.sum(cost_rate * np.abs(portfolio_dst * \\\n",
    "                        (value_realizable-trans_cost)-value_vec))\n",
    "        \n",
    "    new_value_vec = portfolio_dst * (value_realizable - trans_cost)\n",
    "    return new_value_vec, trans_cost"
   ]
  },
  {
   "cell_type": "code",
   "execution_count": 31,
   "metadata": {
    "collapsed": false,
    "scrolled": true
   },
   "outputs": [
    {
     "name": "stdout",
     "output_type": "stream",
     "text": [
      "1247 497\n"
     ]
    }
   ],
   "source": [
    "value_op_seq = np.zeros(numDays) # total value before open of each day\n",
    "value_cl_seq = np.zeros(numDays) # total value before close of each day \n",
    "portfolio_seq = np.zeros((numStocks, numDays)) # portfolio before open of each day\n",
    "last_close_price = np.NaN * np.ones(numStocks)\n",
    "print numDays, numStocks"
   ]
  },
  {
   "cell_type": "code",
   "execution_count": 32,
   "metadata": {
    "collapsed": false
   },
   "outputs": [],
   "source": [
    "# Initialization\n",
    "op = test_op[0,:]\n",
    "cl = np.NaN * np.ones(numStocks)\n",
    "hi = np.NaN * np.ones(numStocks)\n",
    "lo = np.NaN * np.ones(numStocks)\n",
    "vol = np.NaN * np.ones(numStocks)\n",
    "value_op_seq[0] = 1 # initially we hvae one unit of cash"
   ]
  },
  {
   "cell_type": "code",
   "execution_count": null,
   "metadata": {
    "collapsed": true
   },
   "outputs": [],
   "source": []
  },
  {
   "cell_type": "code",
   "execution_count": 33,
   "metadata": {
    "collapsed": false
   },
   "outputs": [
    {
     "ename": "AttributeError",
     "evalue": "'module' object has no attribute 'rebalance'",
     "output_type": "error",
     "traceback": [
      "\u001b[0;31m---------------------------------------------------------------------------\u001b[0m",
      "\u001b[0;31mAttributeError\u001b[0m                            Traceback (most recent call last)",
      "\u001b[0;32m<ipython-input-33-128feb39df55>\u001b[0m in \u001b[0;36m<module>\u001b[0;34m()\u001b[0m\n\u001b[1;32m     13\u001b[0m \u001b[0molmar2\u001b[0m \u001b[0;34m=\u001b[0m \u001b[0mOLMAR\u001b[0m\u001b[0;34m(\u001b[0m\u001b[0mmarket_data\u001b[0m \u001b[0;34m=\u001b[0m \u001b[0mdata\u001b[0m\u001b[0;34m,\u001b[0m \u001b[0mtune_interval\u001b[0m \u001b[0;34m=\u001b[0m \u001b[0;36m100\u001b[0m\u001b[0;34m,\u001b[0m \u001b[0mverbose\u001b[0m\u001b[0;34m=\u001b[0m\u001b[0mFalse\u001b[0m\u001b[0;34m)\u001b[0m\u001b[0;34m\u001b[0m\u001b[0m\n\u001b[1;32m     14\u001b[0m \u001b[0mpool\u001b[0m \u001b[0;34m=\u001b[0m \u001b[0mExpertPool\u001b[0m\u001b[0;34m(\u001b[0m\u001b[0mmarket_data\u001b[0m\u001b[0;34m=\u001b[0m\u001b[0mdata\u001b[0m\u001b[0;34m,\u001b[0m \u001b[0mexperts\u001b[0m\u001b[0;34m=\u001b[0m\u001b[0;34m[\u001b[0m\u001b[0molmar\u001b[0m\u001b[0;34m,\u001b[0m \u001b[0molmar2\u001b[0m\u001b[0;34m]\u001b[0m\u001b[0;34m,\u001b[0m \u001b[0mweighting_strategy\u001b[0m\u001b[0;34m=\u001b[0m\u001b[0;34m'exp_window'\u001b[0m\u001b[0;34m,\u001b[0m \u001b[0mwindows\u001b[0m\u001b[0;34m=\u001b[0m\u001b[0;34m[\u001b[0m\u001b[0;36m5\u001b[0m\u001b[0;34m]\u001b[0m\u001b[0;34m)\u001b[0m\u001b[0;34m\u001b[0m\u001b[0m\n\u001b[0;32m---> 15\u001b[0;31m \u001b[0mpool\u001b[0m\u001b[0;34m.\u001b[0m\u001b[0mrun\u001b[0m\u001b[0;34m(\u001b[0m\u001b[0;34m)\u001b[0m\u001b[0;34m\u001b[0m\u001b[0m\n\u001b[0m\u001b[1;32m     16\u001b[0m \u001b[0mportfolios\u001b[0m \u001b[0;34m=\u001b[0m \u001b[0mpool\u001b[0m\u001b[0;34m.\u001b[0m\u001b[0mb_history\u001b[0m\u001b[0;34m\u001b[0m\u001b[0m\n\u001b[1;32m     17\u001b[0m \u001b[0mportfolios\u001b[0m \u001b[0;34m=\u001b[0m \u001b[0mnp\u001b[0m\u001b[0;34m.\u001b[0m\u001b[0masarray\u001b[0m\u001b[0;34m(\u001b[0m\u001b[0mportfolios\u001b[0m\u001b[0;34m)\u001b[0m\u001b[0;34m\u001b[0m\u001b[0m\n",
      "\u001b[0;32m/Users/nicochaves/Documents/Stanford/EE378_Code/portfolios/expert_pool.py\u001b[0m in \u001b[0;36mrun\u001b[0;34m(self, start, stop)\u001b[0m\n\u001b[1;32m    238\u001b[0m                 \u001b[0mpdb\u001b[0m\u001b[0;34m.\u001b[0m\u001b[0mset_trace\u001b[0m\u001b[0;34m(\u001b[0m\u001b[0;34m)\u001b[0m\u001b[0;34m\u001b[0m\u001b[0m\n\u001b[1;32m    239\u001b[0m         \u001b[0;32melse\u001b[0m\u001b[0;34m:\u001b[0m\u001b[0;34m\u001b[0m\u001b[0m\n\u001b[0;32m--> 240\u001b[0;31m             \u001b[0mPortfolio\u001b[0m\u001b[0;34m.\u001b[0m\u001b[0mrun\u001b[0m\u001b[0;34m(\u001b[0m\u001b[0mself\u001b[0m\u001b[0;34m,\u001b[0m \u001b[0mstart\u001b[0m\u001b[0;34m,\u001b[0m \u001b[0mstop\u001b[0m\u001b[0;34m)\u001b[0m\u001b[0;34m\u001b[0m\u001b[0m\n\u001b[0m\u001b[1;32m    241\u001b[0m \u001b[0;34m\u001b[0m\u001b[0m\n",
      "\u001b[0;32m/Users/nicochaves/Documents/Stanford/EE378_Code/portfolio.pyc\u001b[0m in \u001b[0;36mrun\u001b[0;34m(self, start, stop)\u001b[0m\n\u001b[1;32m    161\u001b[0m         \u001b[0;32mfor\u001b[0m \u001b[0mday\u001b[0m \u001b[0;32min\u001b[0m \u001b[0mrange\u001b[0m\u001b[0;34m(\u001b[0m\u001b[0mstart\u001b[0m\u001b[0;34m,\u001b[0m \u001b[0mstop\u001b[0m\u001b[0;34m)\u001b[0m\u001b[0;34m:\u001b[0m\u001b[0;34m\u001b[0m\u001b[0m\n\u001b[1;32m    162\u001b[0m             \u001b[0;32mif\u001b[0m \u001b[0mday\u001b[0m \u001b[0;34m==\u001b[0m \u001b[0mstart\u001b[0m\u001b[0;34m:\u001b[0m\u001b[0;34m\u001b[0m\u001b[0m\n\u001b[0;32m--> 163\u001b[0;31m                 \u001b[0minit\u001b[0m \u001b[0;34m=\u001b[0m \u001b[0mTrue\u001b[0m\u001b[0;34m\u001b[0m\u001b[0m\n\u001b[0m\u001b[1;32m    164\u001b[0m             \u001b[0;32melse\u001b[0m\u001b[0;34m:\u001b[0m\u001b[0;34m\u001b[0m\u001b[0m\n\u001b[1;32m    165\u001b[0m                 \u001b[0minit\u001b[0m \u001b[0;34m=\u001b[0m \u001b[0mFalse\u001b[0m\u001b[0;34m\u001b[0m\u001b[0m\n",
      "\u001b[0;32m/Users/nicochaves/Documents/Stanford/EE378_Code/portfolio.pyc\u001b[0m in \u001b[0;36mupdate\u001b[0;34m(self, cur_day, init)\u001b[0m\n\u001b[1;32m     70\u001b[0m         \u001b[0;31m# Check if we need to tune hyperparameters today\u001b[0m\u001b[0;34m\u001b[0m\u001b[0;34m\u001b[0m\u001b[0m\n\u001b[1;32m     71\u001b[0m         \u001b[0;32mif\u001b[0m \u001b[0mself\u001b[0m\u001b[0;34m.\u001b[0m\u001b[0mtune_interval\u001b[0m\u001b[0;34m:\u001b[0m\u001b[0;34m\u001b[0m\u001b[0m\n\u001b[0;32m---> 72\u001b[0;31m             \u001b[0;32mif\u001b[0m \u001b[0mcur_day\u001b[0m \u001b[0;34m>\u001b[0m \u001b[0mself\u001b[0m\u001b[0;34m.\u001b[0m\u001b[0mstart\u001b[0m \u001b[0;32mand\u001b[0m \u001b[0mcur_day\u001b[0m \u001b[0;34m%\u001b[0m \u001b[0mself\u001b[0m\u001b[0;34m.\u001b[0m\u001b[0mtune_interval\u001b[0m \u001b[0;34m==\u001b[0m \u001b[0;36m0\u001b[0m\u001b[0;34m:\u001b[0m\u001b[0;34m\u001b[0m\u001b[0m\n\u001b[0m\u001b[1;32m     73\u001b[0m                 \u001b[0mself\u001b[0m\u001b[0;34m.\u001b[0m\u001b[0mtune_hyperparams\u001b[0m\u001b[0;34m(\u001b[0m\u001b[0mcur_day\u001b[0m\u001b[0;34m)\u001b[0m\u001b[0;34m\u001b[0m\u001b[0m\n\u001b[1;32m     74\u001b[0m \u001b[0;34m\u001b[0m\u001b[0m\n",
      "\u001b[0;32m/Users/nicochaves/Documents/Stanford/EE378_Code/portfolio.pyc\u001b[0m in \u001b[0;36mupdate_allocation\u001b[0;34m(self, cur_day, init)\u001b[0m\n\u001b[1;32m     96\u001b[0m         \u001b[0;32mif\u001b[0m \u001b[0;34m(\u001b[0m\u001b[0mcur_day\u001b[0m \u001b[0;34m%\u001b[0m \u001b[0mself\u001b[0m\u001b[0;34m.\u001b[0m\u001b[0mrebal_interval\u001b[0m\u001b[0;34m)\u001b[0m \u001b[0;34m!=\u001b[0m \u001b[0;36m0\u001b[0m\u001b[0;34m:\u001b[0m\u001b[0;34m\u001b[0m\u001b[0m\n\u001b[1;32m     97\u001b[0m             \u001b[0;31m# Don't make any trades today (avoid transaction costs)\u001b[0m\u001b[0;34m\u001b[0m\u001b[0;34m\u001b[0m\u001b[0m\n\u001b[0;32m---> 98\u001b[0;31m             \u001b[0;31m# TODO: need to use special flags to indicate hold when using Yanjun's framework.\u001b[0m\u001b[0;34m\u001b[0m\u001b[0;34m\u001b[0m\u001b[0m\n\u001b[0m\u001b[1;32m     99\u001b[0m             \u001b[0;32mreturn\u001b[0m\u001b[0;34m\u001b[0m\u001b[0m\n\u001b[1;32m    100\u001b[0m \u001b[0;34m\u001b[0m\u001b[0m\n",
      "\u001b[0;32m/Users/nicochaves/Documents/Stanford/EE378_Code/portfolios/expert_pool.py\u001b[0m in \u001b[0;36mget_new_allocation\u001b[0;34m(self, cur_day, init)\u001b[0m\n\u001b[1;32m    101\u001b[0m         \u001b[0;31m# Update the individual experts\u001b[0m\u001b[0;34m\u001b[0m\u001b[0;34m\u001b[0m\u001b[0m\n\u001b[1;32m    102\u001b[0m         \u001b[0;32mfor\u001b[0m \u001b[0mexpert\u001b[0m \u001b[0;32min\u001b[0m \u001b[0mself\u001b[0m\u001b[0;34m.\u001b[0m\u001b[0mexperts\u001b[0m\u001b[0;34m:\u001b[0m\u001b[0;34m\u001b[0m\u001b[0m\n\u001b[0;32m--> 103\u001b[0;31m             \u001b[0mexpert\u001b[0m\u001b[0;34m.\u001b[0m\u001b[0mupdate\u001b[0m\u001b[0;34m(\u001b[0m\u001b[0mcur_day\u001b[0m\u001b[0;34m,\u001b[0m \u001b[0minit\u001b[0m\u001b[0;34m)\u001b[0m\u001b[0;34m\u001b[0m\u001b[0m\n\u001b[0m\u001b[1;32m    104\u001b[0m \u001b[0;34m\u001b[0m\u001b[0m\n\u001b[1;32m    105\u001b[0m         \u001b[0mnet_b\u001b[0m \u001b[0;34m=\u001b[0m \u001b[0mself\u001b[0m\u001b[0;34m.\u001b[0m\u001b[0maggregate_experts\u001b[0m\u001b[0;34m(\u001b[0m\u001b[0mweights\u001b[0m\u001b[0;34m)\u001b[0m\u001b[0;34m\u001b[0m\u001b[0m\n",
      "\u001b[0;32m/Users/nicochaves/Documents/Stanford/EE378_Code/portfolio.pyc\u001b[0m in \u001b[0;36mupdate\u001b[0;34m(self, cur_day, init)\u001b[0m\n\u001b[1;32m     71\u001b[0m         \u001b[0;32mif\u001b[0m \u001b[0mself\u001b[0m\u001b[0;34m.\u001b[0m\u001b[0mtune_interval\u001b[0m\u001b[0;34m:\u001b[0m\u001b[0;34m\u001b[0m\u001b[0m\n\u001b[1;32m     72\u001b[0m             \u001b[0;32mif\u001b[0m \u001b[0mcur_day\u001b[0m \u001b[0;34m>\u001b[0m \u001b[0mself\u001b[0m\u001b[0;34m.\u001b[0m\u001b[0mstart\u001b[0m \u001b[0;32mand\u001b[0m \u001b[0mcur_day\u001b[0m \u001b[0;34m%\u001b[0m \u001b[0mself\u001b[0m\u001b[0;34m.\u001b[0m\u001b[0mtune_interval\u001b[0m \u001b[0;34m==\u001b[0m \u001b[0;36m0\u001b[0m\u001b[0;34m:\u001b[0m\u001b[0;34m\u001b[0m\u001b[0m\n\u001b[0;32m---> 73\u001b[0;31m                 \u001b[0mself\u001b[0m\u001b[0;34m.\u001b[0m\u001b[0mtune_hyperparams\u001b[0m\u001b[0;34m(\u001b[0m\u001b[0mcur_day\u001b[0m\u001b[0;34m)\u001b[0m\u001b[0;34m\u001b[0m\u001b[0m\n\u001b[0m\u001b[1;32m     74\u001b[0m \u001b[0;34m\u001b[0m\u001b[0m\n\u001b[1;32m     75\u001b[0m         \u001b[0mself\u001b[0m\u001b[0;34m.\u001b[0m\u001b[0mupdate_allocation\u001b[0m\u001b[0;34m(\u001b[0m\u001b[0mcur_day\u001b[0m\u001b[0;34m,\u001b[0m \u001b[0minit\u001b[0m\u001b[0;34m)\u001b[0m\u001b[0;34m\u001b[0m\u001b[0m\n",
      "\u001b[0;32m/Users/nicochaves/Documents/Stanford/EE378_Code/portfolio.pyc\u001b[0m in \u001b[0;36mupdate_dollars\u001b[0;34m(self, cur_day)\u001b[0m\n\u001b[1;32m    133\u001b[0m         \u001b[0;31m# At the end of Day t, we use the close price of day t to adjust our\u001b[0m\u001b[0;34m\u001b[0m\u001b[0;34m\u001b[0m\u001b[0m\n\u001b[1;32m    134\u001b[0m         \u001b[0;31m# portfolio to the desired percentage.\u001b[0m\u001b[0;34m\u001b[0m\u001b[0;34m\u001b[0m\u001b[0m\n\u001b[0;32m--> 135\u001b[0;31m         \u001b[0;32mif\u001b[0m \u001b[0mday_idx\u001b[0m \u001b[0;34m<=\u001b[0m \u001b[0mself\u001b[0m\u001b[0;34m.\u001b[0m\u001b[0mnum_days\u001b[0m\u001b[0;34m-\u001b[0m\u001b[0;36m2\u001b[0m\u001b[0;34m:\u001b[0m\u001b[0;34m\u001b[0m\u001b[0m\n\u001b[0m\u001b[1;32m    136\u001b[0m             \u001b[0mnonActive\u001b[0m \u001b[0;34m=\u001b[0m \u001b[0mnp\u001b[0m\u001b[0;34m.\u001b[0m\u001b[0mlogical_not\u001b[0m\u001b[0;34m(\u001b[0m\u001b[0misActive\u001b[0m\u001b[0;34m)\u001b[0m\u001b[0;34m\u001b[0m\u001b[0m\n\u001b[1;32m    137\u001b[0m             \u001b[0mvalue_realizable\u001b[0m \u001b[0;34m=\u001b[0m \u001b[0mself\u001b[0m\u001b[0;34m.\u001b[0m\u001b[0mdollars_cl_history\u001b[0m\u001b[0;34m[\u001b[0m\u001b[0mday_idx\u001b[0m\u001b[0;34m]\u001b[0m \u001b[0;34m-\u001b[0m \u001b[0mnp\u001b[0m\u001b[0;34m.\u001b[0m\u001b[0msum\u001b[0m\u001b[0;34m(\u001b[0m\u001b[0mvalue_vec\u001b[0m\u001b[0;34m[\u001b[0m\u001b[0mnonActive\u001b[0m\u001b[0;34m]\u001b[0m\u001b[0;34m)\u001b[0m\u001b[0;34m\u001b[0m\u001b[0m\n",
      "\u001b[0;31mAttributeError\u001b[0m: 'module' object has no attribute 'rebalance'"
     ]
    }
   ],
   "source": [
    "\"\"\"\n",
    "import util\n",
    "from olmar import OLMAR\n",
    "import market_data\n",
    "from expert_pool import ExpertPool\n",
    "\"\"\"\n",
    "# Package data into a Market Data object\n",
    "\n",
    "data = util.load_matlab_sp500_data('portfolio.mat')\n",
    "\n",
    "# Initialize portfolio optimization class\n",
    "olmar = OLMAR(market_data=data, tune_interval=None, verbose=False)\n",
    "olmar2 = OLMAR(market_data = data, tune_interval = 100, verbose=False)\n",
    "pool = ExpertPool(market_data=data, experts=[olmar, olmar2], weighting_strategy='exp_window', windows=[5])\n",
    "pool.run()\n",
    "portfolios = pool.b_history\n",
    "portfolios = np.asarray(portfolios)\n",
    "# portfolios = np.load('b_history.npy')\n",
    "\n",
    "for t in range(numDays):\n",
    "    # At the beginning of day t, we use all information up to the open \n",
    "    # price of day t to determine the capital allocation at the end of \n",
    "    # day t.\n",
    "    \n",
    "    # Your function should be placed here. Note that the input vector may\n",
    "    # contain NaNs (at Day 1, or for some inactive stocks). \n",
    "    #new_portfolio, hold_flag = uniform_rebalance(t, portfolio_seq[:,t], hi, lo, cl, op, test_stocks, vol)\n",
    "    \n",
    "#     if(t < numDays-1):\n",
    "    hold_flag = np.zeros(numStocks,dtype=bool)\n",
    "    new_portfolio = portfolios[:,t]\n",
    "#     else:\n",
    "#         hold_flag = np.ones(numStocks,dtype=bool)   \n",
    "    \n",
    "    # Check whether your output is valid\n",
    "    isActive = np.isfinite(op)\n",
    "    noHold = np.logical_and(isActive, np.logical_not(hold_flag))\n",
    "    if np.sum(new_portfolio[noHold]) > 1 + 1e-6: #1e-8:\n",
    "        sys.stderr.write('The output portfolio is not valid!')\n",
    "        \n",
    "    # The value of our portfolio at the end of Day t before paying transaction costs\n",
    "    cl = test_cl[t,:]\n",
    "    value_vec = value_op_seq[t] * portfolio_seq[:,t]\n",
    "    growth = cl[isActive] / last_close_price[isActive]-1\n",
    "    growth[np.isnan(growth)] = 0\n",
    "    revenue_vec = value_vec[isActive] * growth\n",
    "    value_vec[isActive] = value_vec[isActive] + revenue_vec\n",
    "    value_cl_seq[t] = value_op_seq[t] + np.sum(revenue_vec)\n",
    "        \n",
    "\n",
    "    # At the end of Day t, we use the close price of day t to adjust our \n",
    "    # portfolio to the desired percentage.\n",
    "    if t <= numDays-2:\n",
    "        nonActive = np.logical_not(isActive)\n",
    "        value_realizable = value_cl_seq[t] - np.sum(value_vec[nonActive])\n",
    "        new_value_vec, trans_cost = rebalance(value_vec[isActive], value_realizable, \\\n",
    "                                              new_portfolio[isActive], 0.0005)\n",
    "        value_op_seq[t+1] = value_cl_seq[t] - trans_cost\n",
    "        value_vec[isActive] = new_value_vec\n",
    "        portfolio_seq[:,t+1] = value_vec / value_op_seq[t+1]\n",
    "        \n",
    "    last_close_price[isActive] = cl[isActive]\n",
    "    \n",
    "    # Update information\n",
    "    if t <= numDays-2:\n",
    "        op = test_op[t+1,:]\n",
    "        hi = test_op[t,:]\n",
    "        lo = test_lo[t,:]\n",
    "        vol = test_vol[t,:]"
   ]
  },
  {
   "cell_type": "code",
   "execution_count": 32,
   "metadata": {
    "collapsed": false
   },
   "outputs": [
    {
     "name": "stdout",
     "output_type": "stream",
     "text": [
      "0.133913890443 0.977325726772\n"
     ]
    },
    {
     "data": {
      "image/png": "[encoded data removed]",
      "text/plain": [
       "<matplotlib.figure.Figure at 0x102eebb10>"
      ]
     },
     "metadata": {},
     "output_type": "display_data"
    }
   ],
   "source": [
    "#plt.plot(value_op_seq)\n",
    "return_seq = np.log(value_op_seq[1:] / value_op_seq[:-1])\n",
    "annual_return = 252 * np.mean(return_seq)\n",
    "sharpe = np.sqrt(252) * np.mean(return_seq) / np.std(return_seq)\n",
    "print annual_return, sharpe"
   ]
  },
  {
   "cell_type": "code",
   "execution_count": 24,
   "metadata": {
    "collapsed": false
   },
   "outputs": [
    {
     "data": {
      "text/plain": [
       "1"
      ]
     },
     "execution_count": 24,
     "metadata": {},
     "output_type": "execute_result"
    }
   ],
   "source": [
    "np.mod(3,2)"
   ]
  },
  {
   "cell_type": "code",
   "execution_count": 25,
   "metadata": {
    "collapsed": false
   },
   "outputs": [
    {
     "data": {
      "text/plain": [
       "[<matplotlib.lines.Line2D at 0x112a373d0>]"
      ]
     },
     "execution_count": 25,
     "metadata": {},
     "output_type": "execute_result"
    },
    {
     "data": {
      "image/png": "[encoded data removed]",
      "text/plain": [
       "<matplotlib.figure.Figure at 0x102f01e10>"
      ]
     },
     "metadata": {},
     "output_type": "display_data"
    }
   ],
   "source": []
  },
  {
   "cell_type": "code",
   "execution_count": 49,
   "metadata": {
    "collapsed": false
   },
   "outputs": [],
   "source": [
    "experts_dollars_history = np.array([[ 0.96956117,  0.97416693,  0.973153  ,  0.96998448,  0.97038573],\n",
    "       [ 0.92430382,  0.92361105,  0.92315414,  0.9327521 ,  0.93862142]])\n",
    "for i, dollars_history in enumerate(experts_dollars_history):\n",
    "            prev_window_start = 0\n",
    "            for (w, window) in enumerate([[windows]]):\n",
    "                window_start = 0\n",
    "                if w == 0:\n",
    "                    window_stop = 5\n",
    "                else:\n",
    "                    window_stop = prev_window_start\n",
    "                window_dollars = dollars_history[window_start:window_stop]\n",
    "\n",
    "                # Perform Exponential Weighting and Scale Down Older Windows\n",
    "                scale = (1.0 * self.ew_alpha)**w\n",
    "                cum_sharpes[0, i] += scale * exp(self.ew_eta * util.empirical_sharpe_ratio(window_dollars))\n",
    "                prev_window_start = window_start\n",
    "\n",
    "        # Normalize to obtain weights that sum to 1\n",
    "        weights = (1.0 / np.sum(cum_sharpes)) * cum_sharpes"
   ]
  },
  {
   "cell_type": "code",
   "execution_count": 4,
   "metadata": {
    "collapsed": false
   },
   "outputs": [],
   "source": [
    "f_path = '../train_results/train1.txt'\n",
    "arr = np.loadtxt(f_path)"
   ]
  },
  {
   "cell_type": "code",
   "execution_count": 5,
   "metadata": {
    "collapsed": false
   },
   "outputs": [
    {
     "name": "stdout",
     "output_type": "stream",
     "text": [
      "[ 1.  2.  3.]\n"
     ]
    }
   ],
   "source": [
    "print arr"
   ]
  },
  {
   "cell_type": "code",
   "execution_count": 8,
   "metadata": {
    "collapsed": true
   },
   "outputs": [],
   "source": [
    "out_fpath = '../train_results/OLMAR/dollars_history_train.txt'\n",
    "dollars_hist_tr = np.zeros(10)\n",
    "for i in range(10):\n",
    "    dollars_hist_tr[i] = i\n",
    "out_f = open(out_fpath, 'w')\n",
    "header = 'History of wealth held by OLMAR portfolio over time\\n ABCD'\n",
    "np.savetxt(out_fpath, dollars_hist_tr, delimiter='\\t', header=header)"
   ]
  },
  {
   "cell_type": "code",
   "execution_count": 3,
   "metadata": {
    "collapsed": false
   },
   "outputs": [
    {
     "name": "stdout",
     "output_type": "stream",
     "text": [
      "Epsilon\t1\t2\t3\n"
     ]
    }
   ],
   "source": [
    "out_file = 'test_out.txt'\n",
    "fo = open(out_file, 'w')\n",
    "li = [1, 2, 3]\n",
    "str1 ='Epsilon\\t' + '\\t'.join([str(val) for val in li])\n",
    "print str1\n",
    "fo.write(str1 + '\\n')\n",
    "fo.close()"
   ]
  },
  {
   "cell_type": "code",
   "execution_count": 5,
   "metadata": {
    "collapsed": false
   },
   "outputs": [
    {
     "name": "stdout",
     "output_type": "stream",
     "text": [
      "['Epsilon', '1', '2', '3']\n"
     ]
    }
   ],
   "source": [
    "fo = open(out_file)\n",
    "for line in fo:\n",
    "    vals = line.rstrip().split('\\t')\n",
    "    print vals"
   ]
  },
  {
   "cell_type": "code",
   "execution_count": 19,
   "metadata": {
    "collapsed": false
   },
   "outputs": [
    {
     "name": "stdout",
     "output_type": "stream",
     "text": [
      "1.0\n"
     ]
    }
   ],
   "source": [
    "arr2 = np.loadtxt(out_file, usecols=(1,))\n",
    "print arr2"
   ]
  },
  {
   "cell_type": "code",
   "execution_count": 21,
   "metadata": {
    "collapsed": false
   },
   "outputs": [],
   "source": [
    "x, y, z = None, None, None"
   ]
  },
  {
   "cell_type": "code",
   "execution_count": 34,
   "metadata": {
    "collapsed": false
   },
   "outputs": [
    {
     "name": "stdout",
     "output_type": "stream",
     "text": [
      "a 1\n",
      "aa 4\n",
      "b 2\n"
     ]
    }
   ],
   "source": [
    "dic = {'a':1, 'b':2, 'aa':4}\n",
    "for key, val in dic.iteritems():\n",
    "    print key, val"
   ]
  },
  {
   "cell_type": "code",
   "execution_count": null,
   "metadata": {
    "collapsed": true
   },
   "outputs": [],
   "source": [
    "      #str1 ='Epsilon\\t' + '\\t'.join([str(val) for val in li])"
   ]
  },
  {
   "cell_type": "code",
   "execution_count": 39,
   "metadata": {
    "collapsed": false
   },
   "outputs": [
    {
     "name": "stdout",
     "output_type": "stream",
     "text": [
      "x\n",
      "hi\n"
     ]
    }
   ],
   "source": [
    "class a:\n",
    "    def __init__(self):\n",
    "        self.x = 'x'\n",
    "        \n",
    "    def test(self):\n",
    "        print self.x\n",
    "        if hasattr(self, 'x'):\n",
    "            print 'hi'\n",
    "        \n",
    "A = a()\n",
    "A.test()"
   ]
  },
  {
   "cell_type": "code",
   "execution_count": null,
   "metadata": {
    "collapsed": true
   },
   "outputs": [],
   "source": []
  }
 ],
 "metadata": {
  "kernelspec": {
   "display_name": "Python 2",
   "language": "python",
   "name": "python2"
  },
  "language_info": {
   "codemirror_mode": {
    "name": "ipython",
    "version": 2
   },
   "file_extension": ".py",
   "mimetype": "text/x-python",
   "name": "python",
   "nbconvert_exporter": "python",
   "pygments_lexer": "ipython2",
   "version": "2.7.11"
  }
 },
 "nbformat": 4,
 "nbformat_minor": 0
}
