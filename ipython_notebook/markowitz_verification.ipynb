{
 "cells": [
  {
   "cell_type": "code",
   "execution_count": 1,
   "metadata": {
    "collapsed": false
   },
   "outputs": [],
   "source": [
    "%matplotlib inline  \n",
    "import matplotlib\n",
    "import numpy as np\n",
    "import matplotlib.pyplot as plt\n"
   ]
  },
  {
   "cell_type": "code",
   "execution_count": 2,
   "metadata": {
    "collapsed": false
   },
   "outputs": [
    {
     "data": {
      "image/png": "[encoded data removed]",
      "text/plain": [
       "<matplotlib.figure.Figure at 0x10bfbc790>"
      ]
     },
     "metadata": {},
     "output_type": "display_data"
    }
   ],
   "source": [
    "points = np.random.rand(10,2)*10-5\n",
    "plt.scatter(points[:,0], points[:,1])\n",
    "plt.show()"
   ]
  },
  {
   "cell_type": "code",
   "execution_count": 3,
   "metadata": {
    "collapsed": false
   },
   "outputs": [
    {
     "data": {
      "text/plain": [
       "(-6.0, 6.0, -6.0, 6.0)"
      ]
     },
     "execution_count": 3,
     "metadata": {},
     "output_type": "execute_result"
    },
    {
     "data": {
      "image/png": "[encoded data removed]",
      "text/plain": [
       "<matplotlib.figure.Figure at 0x110252a50>"
      ]
     },
     "metadata": {},
     "output_type": "display_data"
    }
   ],
   "source": [
    "import util\n",
    "pt = np.random.rand(2)*10-5\n",
    "point_norms = np.diag(np.dot(points, np.transpose(points)))\n",
    "nearest = util.k_nearest_neighbors(pt, points, 6, point_norms)\n",
    "plt.scatter(pt[0],pt[1],color='r',marker='x')\n",
    "plt.scatter(points[:,0], points[:,1])\n",
    "plt.scatter(points[nearest,0],points[nearest,1], color='m')\n",
    "plt.axis('square')"
   ]
  },
  {
   "cell_type": "code",
   "execution_count": null,
   "metadata": {
    "collapsed": false
   },
   "outputs": [],
   "source": [
    "from cvxpy import *\n",
    "mu = np.load('../mu.npy')\n",
    "sigma = np.load('../sigma.npy')\n",
    "#mu = np.ones(mu.shape[0])\n",
    "\n",
    "N = 10\n",
    "ret = np.zeros(N)\n",
    "ind = 0\n",
    "for l in 10**np.linspace(-5, 3, num=N):\n",
    "    b = Variable(mu.shape[0])\n",
    "    c = Variable(mu.shape[0])\n",
    "    objective = Maximize(mu.T*b - l*quad_form(b, sigma))\n",
    "    constraints = [c >= b, c >= -b, sum(c) == 1, b <= 0.1, b>=-0.1]\n",
    "    prob = Problem(objective, constraints)\n",
    "    prob.solve()\n",
    "    x = b.value\n",
    "    x = np.reshape(x,-1)\n",
    "    ret[ind] = np.inner(x,mu)\n",
    "    ind += 1"
   ]
  },
  {
   "cell_type": "code",
   "execution_count": null,
   "metadata": {
    "collapsed": false
   },
   "outputs": [],
   "source": [
    "n = 10**np.linspace(-5, 1.5, num=N)\n",
    "plt.semilogx(n, ret)\n"
   ]
  },
  {
   "cell_type": "code",
   "execution_count": null,
   "metadata": {
    "collapsed": false
   },
   "outputs": [],
   "source": [
    "x*sigma*x.T\n",
    "np.dot(x,mu)"
   ]
  },
  {
   "cell_type": "code",
   "execution_count": null,
   "metadata": {
    "collapsed": false
   },
   "outputs": [],
   "source": [
    "x=b.value\n",
    "x[np.fabs(x) > 0.001]"
   ]
  },
  {
   "cell_type": "code",
   "execution_count": 6,
   "metadata": {
    "collapsed": false
   },
   "outputs": [
    {
     "data": {
      "text/plain": [
       "[<matplotlib.lines.Line2D at 0x1051a8c90>]"
      ]
     },
     "execution_count": 6,
     "metadata": {},
     "output_type": "execute_result"
    },
    {
     "data": {
      "image/png": "[encoded data removed]",
      "text/plain": [
       "<matplotlib.figure.Figure at 0x10e46fed0>"
      ]
     },
     "metadata": {},
     "output_type": "display_data"
    }
   ],
   "source": [
    "import util\n",
    "data = util.load_matlab_sp500_data('portfolio.mat')\n",
    "plt.plot(data.get_cl()[:,1])"
   ]
  },
  {
   "cell_type": "code",
   "execution_count": null,
   "metadata": {
    "collapsed": true
   },
   "outputs": [],
   "source": []
  }
 ],
 "metadata": {
  "kernelspec": {
   "display_name": "Python 2",
   "language": "python",
   "name": "python2"
  },
  "language_info": {
   "codemirror_mode": {
    "name": "ipython",
    "version": 2
   },
   "file_extension": ".py",
   "mimetype": "text/x-python",
   "name": "python",
   "nbconvert_exporter": "python",
   "pygments_lexer": "ipython2",
   "version": "2.7.11"
  }
 },
 "nbformat": 4,
 "nbformat_minor": 0
}
